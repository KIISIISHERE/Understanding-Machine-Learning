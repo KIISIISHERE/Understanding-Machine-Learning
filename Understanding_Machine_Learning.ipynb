{
  "nbformat": 4,
  "nbformat_minor": 0,
  "metadata": {
    "colab": {
      "provenance": [],
      "authorship_tag": "ABX9TyOoK/rvnLsWArPL7GAAfR19",
      "include_colab_link": true
    },
    "kernelspec": {
      "name": "python3",
      "display_name": "Python 3"
    },
    "language_info": {
      "name": "python"
    }
  },
  "cells": [
    {
      "cell_type": "markdown",
      "metadata": {
        "id": "view-in-github",
        "colab_type": "text"
      },
      "source": [
        "<a href=\"https://colab.research.google.com/github/KIISIISHERE/Understanding-Machine-Learning/blob/main/Understanding_Machine_Learning.ipynb\" target=\"_parent\"><img src=\"https://colab.research.google.com/assets/colab-badge.svg\" alt=\"Open In Colab\"/></a>"
      ]
    },
    {
      "cell_type": "code",
      "execution_count": null,
      "metadata": {
        "colab": {
          "base_uri": "https://localhost:8080/"
        },
        "id": "K71OixI6iDmP",
        "outputId": "26872b7f-d932-40ed-a470-82f7178f91eb"
      },
      "outputs": [
        {
          "output_type": "stream",
          "name": "stdout",
          "text": [
            "👋 Hello, I'm Jarvis, your personal assistant\n",
            "Lets have a quick chat on weather/date/time💬!\n",
            "\n",
            "What is your name🤔?Alexander Hamilton\n",
            "Hi Alexander Hamilton, Its nice to meet you🥰. How can I help you today?\n",
            "Weather\n",
            "🤖,Unfortunately I am not yet integrated to tell the weather.☺️Coming soon\n",
            "Date\n",
            "Today's date📅 is: Monday, October 06,2025\n",
            "Time\n",
            "The time⌚ is: 17:47\n",
            "done\n",
            "🙋‍♀️Goodbye for now Alexander Hamilton! Hope to see you soon.\n",
            "Bye\n",
            "🙋‍♀️Goodbye for now Alexander Hamilton! Hope to see you soon.\n"
          ]
        }
      ],
      "source": [
        "\n",
        "print(\"👋 Hello, I'm Jarvis, your personal assistant\")\n",
        "print(\"Lets have a quick chat on weather/date/time💬!\\n\")\n",
        "#input\n",
        "name=input(\"What is your name🤔?\")\n",
        "print(f\"Hi {name}, Its nice to meet you🥰. How can I help you today?\")\n",
        "while True:\n",
        "  question=input()\n",
        "  #asks for time\n",
        "  if \"time\" in question.lower():\n",
        "    import datetime\n",
        "    print(\"The time⌚ is:\",datetime.datetime.now().strftime(\"%H:%M\")) # Corrected the format string for time\n",
        "  #ask for date\n",
        "  elif \"date\" in question.lower():\n",
        "    import datetime # Ensure datetime is imported in this branch as well\n",
        "    print(\"Today's date📅 is:\",datetime.datetime.now().strftime(\"%A, %B %d,%Y\")) # Added the missing dot\n",
        "  #ask for the weather\n",
        "  elif \"weather\" in question.lower():\n",
        "   print(\"🤖,Unfortunately I am not yet integrated to tell the weather.☺️Coming soon\")\n",
        "  elif \"name\" in question.lower():\n",
        "    print(\"🙃My name is Jarvis while your name is \",name,\"👋\") # Removed redundant curly braces\n",
        "  elif \"quit\" or \"goodbye\" or \"done\" in question.lower():\n",
        "    print(f\"🙋‍♀️Goodbye for now {name}! Hope to see you soon.\")\n",
        "  else:\n",
        "    print(\"🤔Hmmmm! I don't think I can Understand that for now.\")"
      ]
    }
  ]
}